{
 "cells": [
  {
   "cell_type": "code",
   "execution_count": 1,
   "metadata": {},
   "outputs": [],
   "source": [
    "import rdflib\n",
    "\n",
    "g = rdflib.Graph()"
   ]
  },
  {
   "cell_type": "code",
   "execution_count": 2,
   "metadata": {},
   "outputs": [
    {
     "name": "stdout",
     "output_type": "stream",
     "text": [
      "[a rdfg:Graph;rdflib:storage [a rdflib:Store;rdfs:label 'IOMemory']].\n"
     ]
    }
   ],
   "source": [
    "content = u\"\"\"\n",
    "@prefix ab: <http://jessica.com/> .\n",
    "\n",
    "ab:jessica\n",
    "a <http://dbpedia.org/ontology/person> ;\n",
    "ab:name \"Jessica Liang\" ;\n",
    "ab:live_at <http://dbpedia.org/page/Abu_Dhabi> ;\n",
    "ab:study_at <http://dbpedia.org/page/Heriot-Watt_University> .\n",
    "\n",
    "<http://dbpedia.org/page/Heriot-Watt_University>\n",
    "ab:located_at \"Dubai\" ;\n",
    "ab:located_at \"Edinburgh\" .\n",
    "\"\"\"\n",
    "\n",
    "open('ex002.ttl','w+').write(content)\n",
    "\n",
    "result = g.parse(\"ex002.ttl\" , format='ttl')\n",
    "print(result)"
   ]
  },
  {
   "cell_type": "code",
   "execution_count": 3,
   "metadata": {},
   "outputs": [
    {
     "name": "stdout",
     "output_type": "stream",
     "text": [
      "http://jessica.com/name Jessica Liang\n",
      "http://www.w3.org/1999/02/22-rdf-syntax-ns#type http://jessica.com/person\n",
      "http://jessica.com/live_at http://dbpedia.org/page/Abu_Dhabi\n",
      "http://jessica.com/study_at http://dbpedia.org/page/Heriot-Watt_University\n"
     ]
    }
   ],
   "source": [
    "query = \"\"\"\n",
    "SELECT *\n",
    "WHERE {\n",
    "ab:jessica ?r ?o\n",
    "}\n",
    "\"\"\"\n",
    "\n",
    "r = g.query(query)\n",
    "\n",
    "for stmt in r:\n",
    "    print(stmt[0], stmt[1])"
   ]
  },
  {
   "cell_type": "code",
   "execution_count": null,
   "metadata": {},
   "outputs": [],
   "source": []
  }
 ],
 "metadata": {
  "kernelspec": {
   "display_name": "Python 3",
   "language": "python",
   "name": "python3"
  },
  "language_info": {
   "codemirror_mode": {
    "name": "ipython",
    "version": 3
   },
   "file_extension": ".py",
   "mimetype": "text/x-python",
   "name": "python",
   "nbconvert_exporter": "python",
   "pygments_lexer": "ipython3",
   "version": "3.8.3"
  },
  "toc": {
   "base_numbering": 1,
   "nav_menu": {
    "height": "217px",
    "width": "261px"
   },
   "number_sections": true,
   "sideBar": true,
   "skip_h1_title": true,
   "title_cell": "Table of Contents",
   "title_sidebar": "Contents",
   "toc_cell": true,
   "toc_position": {},
   "toc_section_display": true,
   "toc_window_display": true
  }
 },
 "nbformat": 4,
 "nbformat_minor": 2
}
