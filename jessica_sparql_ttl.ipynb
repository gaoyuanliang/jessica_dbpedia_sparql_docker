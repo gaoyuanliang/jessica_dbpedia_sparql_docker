{
 "cells": [
  {
   "cell_type": "code",
   "execution_count": 4,
   "metadata": {},
   "outputs": [],
   "source": [
    "import rdflib\n",
    "\n",
    "g = rdflib.Graph()"
   ]
  },
  {
   "cell_type": "code",
   "execution_count": 5,
   "metadata": {},
   "outputs": [
    {
     "name": "stdout",
     "output_type": "stream",
     "text": [
      "[a rdfg:Graph;rdflib:storage [a rdflib:Store;rdfs:label 'IOMemory']].\n"
     ]
    }
   ],
   "source": [
    "content = u\"\"\"\n",
    "@prefix ab: <http://jessica.com/ns/addressbook#> .\n",
    "\n",
    "ab:jessica\n",
    "ab:name \"Jessica Liang\" ;\n",
    "ab:address \"Reem Island, Abu Dhabi, UAE\" .\n",
    "\n",
    "ab:richard \n",
    "ab:homeTel \"(229) 276-5135\" ;\n",
    "ab:email   \"richard49@hotmail.com\" . \n",
    "\n",
    "\"\"\"\n",
    "\n",
    "open('ex002.ttl','w+').write(content)\n",
    "\n",
    "result = g.parse(\"ex002.ttl\" , format='ttl')\n",
    "print(result)"
   ]
  },
  {
   "cell_type": "code",
   "execution_count": 6,
   "metadata": {},
   "outputs": [
    {
     "name": "stdout",
     "output_type": "stream",
     "text": [
      "http://jessica.com/ns/addressbook#jessica http://jessica.com/ns/addressbook#name Jessica Liang\n",
      "http://jessica.com/ns/addressbook#richard http://jessica.com/ns/addressbook#homeTel (229) 276-5135\n",
      "http://jessica.com/ns/addressbook#jessica http://jessica.com/ns/addressbook#address Reem Island, Abu Dhabi, UAE\n",
      "http://jessica.com/ns/addressbook#richard http://jessica.com/ns/addressbook#email richard49@hotmail.com\n"
     ]
    }
   ],
   "source": [
    "query = \"\"\"\n",
    "SELECT * \n",
    "WHERE {\n",
    "?s ?p ?o .\n",
    "}\n",
    "\"\"\"\n",
    "\n",
    "g.query(query)\n",
    "\n",
    "for stmt in g:\n",
    "    print(stmt[0], stmt[1], stmt[2])"
   ]
  }
 ],
 "metadata": {
  "kernelspec": {
   "display_name": "Python 3",
   "language": "python",
   "name": "python3"
  },
  "language_info": {
   "codemirror_mode": {
    "name": "ipython",
    "version": 3
   },
   "file_extension": ".py",
   "mimetype": "text/x-python",
   "name": "python",
   "nbconvert_exporter": "python",
   "pygments_lexer": "ipython3",
   "version": "3.8.3"
  },
  "toc": {
   "base_numbering": 1,
   "nav_menu": {
    "height": "217px",
    "width": "261px"
   },
   "number_sections": true,
   "sideBar": true,
   "skip_h1_title": true,
   "title_cell": "Table of Contents",
   "title_sidebar": "Contents",
   "toc_cell": true,
   "toc_position": {},
   "toc_section_display": true,
   "toc_window_display": true
  }
 },
 "nbformat": 4,
 "nbformat_minor": 2
}
