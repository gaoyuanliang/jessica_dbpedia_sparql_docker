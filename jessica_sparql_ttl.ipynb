{
 "cells": [
  {
   "cell_type": "code",
   "execution_count": 16,
   "metadata": {},
   "outputs": [],
   "source": [
    "import rdflib\n",
    "\n",
    "g = rdflib.Graph()"
   ]
  },
  {
   "cell_type": "code",
   "execution_count": 1,
   "metadata": {},
   "outputs": [
    {
     "ename": "NameError",
     "evalue": "name 'g' is not defined",
     "output_type": "error",
     "traceback": [
      "\u001b[0;31m---------------------------------------------------------------------------\u001b[0m",
      "\u001b[0;31mNameError\u001b[0m                                 Traceback (most recent call last)",
      "\u001b[0;32m<ipython-input-1-8533294108c6>\u001b[0m in \u001b[0;36m<module>\u001b[0;34m\u001b[0m\n\u001b[1;32m     14\u001b[0m \u001b[0mopen\u001b[0m\u001b[0;34m(\u001b[0m\u001b[0;34m'ex002.ttl'\u001b[0m\u001b[0;34m,\u001b[0m\u001b[0;34m'w+'\u001b[0m\u001b[0;34m)\u001b[0m\u001b[0;34m.\u001b[0m\u001b[0mwrite\u001b[0m\u001b[0;34m(\u001b[0m\u001b[0mcontent\u001b[0m\u001b[0;34m)\u001b[0m\u001b[0;34m\u001b[0m\u001b[0;34m\u001b[0m\u001b[0m\n\u001b[1;32m     15\u001b[0m \u001b[0;34m\u001b[0m\u001b[0m\n\u001b[0;32m---> 16\u001b[0;31m \u001b[0mresult\u001b[0m \u001b[0;34m=\u001b[0m \u001b[0mg\u001b[0m\u001b[0;34m.\u001b[0m\u001b[0mparse\u001b[0m\u001b[0;34m(\u001b[0m\u001b[0;34m\"ex002.ttl\"\u001b[0m \u001b[0;34m,\u001b[0m \u001b[0mformat\u001b[0m\u001b[0;34m=\u001b[0m\u001b[0;34m'ttl'\u001b[0m\u001b[0;34m)\u001b[0m\u001b[0;34m\u001b[0m\u001b[0;34m\u001b[0m\u001b[0m\n\u001b[0m\u001b[1;32m     17\u001b[0m \u001b[0mprint\u001b[0m\u001b[0;34m(\u001b[0m\u001b[0mresult\u001b[0m\u001b[0;34m)\u001b[0m\u001b[0;34m\u001b[0m\u001b[0;34m\u001b[0m\u001b[0m\n",
      "\u001b[0;31mNameError\u001b[0m: name 'g' is not defined"
     ]
    }
   ],
   "source": [
    "content = u\"\"\"\n",
    "@prefix ab: <http://jessica.com/ns/addressbook#> .\n",
    "\n",
    "ab:jessica\n",
    "ab:name \"Jessica Liang\" ;\n",
    "ab:address \"Reem Island, Abu Dhabi, UAE\" .\n",
    "\n",
    "ab:richard \n",
    "ab:homeTel \"(229) 276-5135\" ;\n",
    "ab:email   \"richard49@hotmail.com\" . \n",
    "\n",
    "\"\"\"\n",
    "\n",
    "open('ex002.ttl','w+').write(content)\n",
    "\n",
    "result = g.parse(\"ex002.ttl\" , format='ttl')\n",
    "print(result)"
   ]
  },
  {
   "cell_type": "code",
   "execution_count": 35,
   "metadata": {},
   "outputs": [
    {
     "name": "stdout",
     "output_type": "stream",
     "text": [
      "http://learningsparql.com/ns/addressbook#cindy http://learningsparql.com/ns/addressbook#homeTel (245) 646-5488\n",
      "http://jessica.com/ns/addressbook#richard http://jessica.com/ns/addressbook#homeTel (229) 276-5135\n",
      "http://jessica.com/ns/addressbook#craig http://jessica.com/ns/addressbook#email c.ellis@usairwaysgroup.com\n",
      "http://learningsparql.com/ns/addressbook#craig http://learningsparql.com/ns/addressbook#email c.ellis@usairwaysgroup.com\n",
      "http://jessica.com/ns/addressbook#craig http://jessica.com/ns/addressbook#homeTel (194) 966-1505\n",
      "http://learningsparql.com/ns/addressbook#craig http://learningsparql.com/ns/addressbook#homeTel (194) 966-1505\n",
      "http://jessica.com/ns/addressbook#richard http://jessica.com/ns/addressbook#email richard49@hotmail.com\n",
      "http://jessica.com/ns/addressbook#jessica http://jessica.com/ns/addressbook#name Jessica Liang\n",
      "http://jessica.com/ns/addressbook#cindy http://jessica.com/ns/addressbook#email cindym@gmail.com\n",
      "http://jessica.com/ns/addressbook#jessica http://jessica.com/ns/addressbook#address Reem Island, Abu Dhabi, UAE\n",
      "http://learningsparql.com/ns/addressbook#cindy http://learningsparql.com/ns/addressbook#email cindym@gmail.com\n",
      "http://jessica.com/ns/addressbook#cindy http://jessica.com/ns/addressbook#homeTel (245) 646-5488\n",
      "http://jessica.com/ns/addressbook#craig http://jessica.com/ns/addressbook#email craigellis@yahoo.com\n",
      "http://learningsparql.com/ns/addressbook#craig http://learningsparql.com/ns/addressbook#email craigellis@yahoo.com\n",
      "http://learningsparql.com/ns/addressbook#richard http://learningsparql.com/ns/addressbook#homeTel (229) 276-5135\n",
      "http://learningsparql.com/ns/addressbook#richard http://learningsparql.com/ns/addressbook#email richard49@hotmail.com\n"
     ]
    }
   ],
   "source": [
    "query = \"\"\"\n",
    "SELECT * \n",
    "WHERE {\n",
    "?s ?p ?o .\n",
    "}\n",
    "\"\"\"\n",
    "\n",
    "g.query(query)\n",
    "\n",
    "for stmt in g:\n",
    "    print(stmt[0], stmt[1], stmt[2])"
   ]
  }
 ],
 "metadata": {
  "kernelspec": {
   "display_name": "Python 3",
   "language": "python",
   "name": "python3"
  },
  "language_info": {
   "codemirror_mode": {
    "name": "ipython",
    "version": 3
   },
   "file_extension": ".py",
   "mimetype": "text/x-python",
   "name": "python",
   "nbconvert_exporter": "python",
   "pygments_lexer": "ipython3",
   "version": "3.8.3"
  },
  "toc": {
   "base_numbering": 1,
   "nav_menu": {
    "height": "217px",
    "width": "261px"
   },
   "number_sections": true,
   "sideBar": true,
   "skip_h1_title": true,
   "title_cell": "Table of Contents",
   "title_sidebar": "Contents",
   "toc_cell": true,
   "toc_position": {},
   "toc_section_display": true,
   "toc_window_display": true
  }
 },
 "nbformat": 4,
 "nbformat_minor": 2
}
